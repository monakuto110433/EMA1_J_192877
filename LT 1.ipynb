{
 "cells": [
  {
   "cell_type": "markdown",
   "metadata": {},
   "source": [
    "## Question number 1"
   ]
  },
  {
   "cell_type": "code",
   "execution_count": 66,
   "metadata": {
    "scrolled": true
   },
   "outputs": [
    {
     "name": "stdout",
     "output_type": "stream",
     "text": [
      "Enter the number of rows:1\n",
      "<table>\n",
      "<tr class=\"lightyellowrow\"><td>1</td><td>1</td></tr>\n",
      "</table>\n"
     ]
    }
   ],
   "source": [
    "ceiling = int(input(\"Enter the number of rows:\"))\n",
    "output = \"<table>\\n\"\n",
    "\n",
    "for i in range(1,ceiling+1):\n",
    "    \n",
    "    if(i % 2 == 1):\n",
    "        html_code = \"<tr class=\\\"lightyellowrow\\\"><td>\"\n",
    "\n",
    "        \n",
    "    elif(i % 2 == 0):\n",
    "        html_code = \"<tr class=\\\"whiterow\\\"><td>\"\n",
    "        \n",
    "    str_i = str(i)    \n",
    "    squares = i**2\n",
    "    str_squares = str(squares)\n",
    "    \n",
    "    output = output + html_code + str_i + \"</td><td>\" + str_squares + \"</td></tr>\" \"\\n\"\n",
    "    \n",
    "    int_i = int(i)\n",
    "\n",
    "print(output, \"</table>\",sep =\"\")"
   ]
  },
  {
   "cell_type": "code",
   "execution_count": 67,
   "metadata": {},
   "outputs": [
    {
     "name": "stdout",
     "output_type": "stream",
     "text": [
      "Enter day:31\n",
      "Enter month:1\n",
      "Enter year:1990\n",
      "It is the 31st day of the month of January of the year 1990\n"
     ]
    }
   ],
   "source": [
    "day = input(\"Enter day:\")\n",
    "month = input(\"Enter month:\")\n",
    "year = input(\"Enter year:\")\n",
    "\n",
    "\n",
    "if(day[-1] == \"1\"):\n",
    "    convention = \"st\"\n",
    "elif(day[-1] == \"2\"):\n",
    "    convention = \"nd\"\n",
    "elif(day[-1] == \"3\"):\n",
    "    convention = \"rd\"\n",
    "elif(day[-1] == \"4\" or day[-1] == \"5\" or day[-1] == \"6\" or day[-1] == \"7\" or day[-1] == \"8\" or day[-1] == \"9\" or day[-1] == \"0\"):\n",
    "    convention = \"th\"\n",
    "    \n",
    "int_day = int(day) \n",
    "int_year = int(year)\n",
    "\n",
    "if(month == \"1\"):\n",
    "    if(int_day>=1 and int_day<=31):\n",
    "        print(\"It is the \", int_day, convention, \" day of the month of January\", \" of the year \", int_year, sep =\"\")\n",
    "    else:\n",
    "        print(\"Date is not valid.\")\n",
    "        \n",
    "elif(month == \"2\"):\n",
    "    if (int_year % 100 ==0):\n",
    "        if(int_year % 400 ==0):\n",
    "            if(int_day>=1 and int_day<=29):\n",
    "                print(\"It is the \", int_day, convention, \" day of the month of February\", \" of the year \", int_year, sep =\"\")\n",
    "            else:\n",
    "                print(\"Date is not valid\")\n",
    "        else:\n",
    "            print(\"Date is not valid\")\n",
    "    elif(int_year % 4 == 0):\n",
    "        if(int_day>=1 and int_day<=29):\n",
    "            print(\"It is the \", int_day, convention, \" day of the month of February\", \" of the year \", int_year, sep =\"\")\n",
    "        else:\n",
    "                print(\"Date is not valid\")\n",
    "    elif(int_day>=1 and int_day<=28):\n",
    "        print(\"It is the \", int_day, convention, \" day of the month of February\", \" of the year \", int_year, sep =\"\")\n",
    "    else:\n",
    "        print(\"Date is not valid.\")\n",
    "        \n",
    "elif(month == \"3\"):\n",
    "    if(int_day>=1 and int_day<=31):\n",
    "        print(\"It is the \", int_day, convention, \" day of the month of March\", \" of the year \", int_year, sep =\"\")\n",
    "    else:\n",
    "        print(\"Date is not valid.\")\n",
    "        \n",
    "elif(month == \"4\"):\n",
    "    if(int_day>=1 and int_day<=30):\n",
    "        print(\"It is the \", int_day, convention, \" day of the month of April\", \" of the year \", int_year, sep =\"\")\n",
    "    else:\n",
    "        print(\"Date is not valid.\")\n",
    "        \n",
    "elif(month == \"5\"):\n",
    "    if(int_day>=1 and int_day<=31):\n",
    "        print(\"It is the \", int_day, convention, \" day of the month of May\", \" of the year \", int_year, sep =\"\")\n",
    "    else:\n",
    "        print(\"Date is not valid.\")\n",
    "        \n",
    "elif(month == \"6\"):\n",
    "    if(int_day>=1 and int_day<=30):\n",
    "        print(\"It is the \", int_day, convention, \" day of the month of June\", \" of the year \", int_year, sep =\"\")\n",
    "    else:\n",
    "        print(\"Date is not valid.\")\n",
    "        \n",
    "elif(month == \"7\"):\n",
    "    if(int_day>=1 and int_day<=31):\n",
    "        print(\"It is the \", int_day, convention, \" day of the month of July\", \" of the year \", int_year, sep =\"\")\n",
    "    else:\n",
    "        print(\"Date is not valid.\")\n",
    "        \n",
    "elif(month == \"8\"):\n",
    "    if(int_day>=1 and int_day<=30):\n",
    "        print(\"It is the \", int_day, convention, \" of the month of August\", \" of the year \", int_year, sep =\"\")\n",
    "    else:\n",
    "        print(\"Date is not valid.\")\n",
    "    \n",
    "elif(month == \"9\"):\n",
    "    if(int_day>=1 and int_day<=31):\n",
    "        print(\"It is the \", int_day, convention, \" day of the month of September\", \" of the year \", int_year, sep =\"\")\n",
    "    else:\n",
    "        print(\"Date is not valid.\")\n",
    "\n",
    "elif(month == \"10\"):\n",
    "    if(int_day>=1 and int_day<=30):\n",
    "        print(\"It is the \", int_day, convention, \" day of the month of October\", \" of the year \", int_year, sep =\"\")\n",
    "    else:\n",
    "        print(\"Date is not valid.\")\n",
    "    \n",
    "elif(month == \"11\"):\n",
    "    if(int_day>=1 and int_day<=31):\n",
    "        print(\"It is the \", int_day, convention, \" day of the month of November\", \" of the year \", int_year, sep =\"\")\n",
    "    else:\n",
    "        print(\"Date is not valid.\")\n",
    "\n",
    "elif(month == \"12\"):\n",
    "    if(int_day>=1 and int_day<=30):\n",
    "        print(\"It is the \", int_day, convention, \" day of the month of December\", \" of the year \", int_year, sep =\"\")\n",
    "    else:\n",
    "        print(\"Date is not valid.\")\n",
    "\n",
    "else:\n",
    "    print(\"Date is not valid.\")\n",
    "\n",
    "\n",
    "\n"
   ]
  },
  {
   "cell_type": "markdown",
   "metadata": {},
   "source": [
    "## Question Number 3"
   ]
  },
  {
   "cell_type": "code",
   "execution_count": 69,
   "metadata": {},
   "outputs": [
    {
     "name": "stdout",
     "output_type": "stream",
     "text": [
      "True\n"
     ]
    }
   ],
   "source": [
    "def obedient(number):\n",
    "    checker = (number - 3)/3\n",
    "    if (checker > int(checker)):\n",
    "        return False\n",
    "    else:\n",
    "        return True\n",
    "    \n",
    "\n",
    "value = obedient(123) #Input in the parameter \n",
    "print(value)"
   ]
  },
  {
   "cell_type": "markdown",
   "metadata": {},
   "source": [
    "## Question Number 4\n",
    "Psuedocode:\n",
    "1. Check using 2 for loops: 1 for row and 1 for column \n",
    "2. multiply counter for row and column"
   ]
  },
  {
   "cell_type": "code",
   "execution_count": 71,
   "metadata": {},
   "outputs": [
    {
     "name": "stdout",
     "output_type": "stream",
     "text": [
      "1\t2\t3\t4\t5\t6\t7\t8\t9\t10\t\n",
      "2\t4\t6\t8\t10\t12\t14\t16\t18\t20\t\n",
      "3\t6\t9\t12\t15\t18\t21\t24\t27\t30\t\n",
      "4\t8\t12\t16\t20\t24\t28\t32\t36\t40\t\n",
      "5\t10\t15\t20\t25\t30\t35\t40\t45\t50\t\n",
      "6\t12\t18\t24\t30\t36\t42\t48\t54\t60\t\n",
      "7\t14\t21\t28\t35\t42\t49\t56\t63\t70\t\n",
      "8\t16\t24\t32\t40\t48\t56\t64\t72\t80\t\n",
      "9\t18\t27\t36\t45\t54\t63\t72\t81\t90\t\n",
      "10\t20\t30\t40\t50\t60\t70\t80\t90\t100\t\n",
      "\n"
     ]
    }
   ],
   "source": [
    "def multtable(number):\n",
    "    output = \"\"\n",
    "    for counter1 in range(1,number+1):\n",
    "        for counter2 in range(1,number+1):\n",
    "            product = counter1 * counter2\n",
    "            str_product = str(product)\n",
    "            output = output  + str_product + \"\\t\"\n",
    "        output = output + \"\\n\"\n",
    "    return output\n",
    "\n",
    "print(multtable(10))"
   ]
  },
  {
   "cell_type": "markdown",
   "metadata": {},
   "source": [
    "## Question Number 5"
   ]
  },
  {
   "cell_type": "code",
   "execution_count": 82,
   "metadata": {},
   "outputs": [
    {
     "name": "stdout",
     "output_type": "stream",
     "text": [
      "Do you prefer (a) the mountains, (b) the city, or (c) the beach?a\n",
      "Do you prefer (a) yoghurt, (b) ice cream, or (c) gelato?b\n",
      "Do you prefer (a) reading, (b) singing, or (c) writing?c\n",
      "Do you prefer (a) sweet, (b) salty, or (c) spicy food?d\n",
      "Sorry you inputted a wrong letter. Please try again.\n",
      "Do you prefer (a) sweet, (b) salty, or (c) spicy food?e\n",
      "Sorry you inputted a wrong letter. Please try again.\n",
      "Do you prefer (a) sweet, (b) salty, or (c) spicy food?a\n",
      "Do you prefer (a) cats, (b) dogs, or (c) fish?a\n",
      "Your element is: Earth\n"
     ]
    }
   ],
   "source": [
    "fire = 0\n",
    "earth = 0\n",
    "water = 0\n",
    "checker1 = \"\"\n",
    "checker2 = \"\"\n",
    "checker3 = \"\"\n",
    "checker4 = \"\"\n",
    "checker5 = \"\"\n",
    "\n",
    "while(True):\n",
    "    input1 = input(\"Do you prefer (a) the mountains, (b) the city, or (c) the beach?\")\n",
    "    if(input1 == \"a\" or input1 == \"b\" or input1 == \"c\"):\n",
    "        if(input1 == \"a\"):\n",
    "            fire = fire + 1\n",
    "        elif(input1 == \"b\"):\n",
    "            earth = earth + 1\n",
    "        elif(input1 == \"c\"):\n",
    "            water = water + 1\n",
    "        break\n",
    "    else:\n",
    "        print(\"Sorry you inputted a wrong letter. Please try again.\")\n",
    "\n",
    "while(True):\n",
    "    input2 = input(\"Do you prefer (a) yoghurt, (b) ice cream, or (c) gelato?\")\n",
    "    if(input2 == \"a\" or input2 == \"b\" or input2 == \"c\"):\n",
    "        if(input2 == \"a\"):\n",
    "            earth = earth + 1\n",
    "        elif(input2 == \"b\"):\n",
    "            water = water + 1\n",
    "        elif(input2 == \"c\"):\n",
    "            fire = fire + 1\n",
    "        break\n",
    "    else:\n",
    "        print(\"Sorry you inputted a wrong letter. Please try again.\")      \n",
    "        \n",
    "while(True):\n",
    "    input3 = input(\"Do you prefer (a) reading, (b) singing, or (c) writing?\")\n",
    "    if(input3 == \"a\" or input3 == \"b\" or input3 == \"c\"):\n",
    "        if(input3 == \"a\"):\n",
    "            water = water + 1\n",
    "        elif(input3 == \"b\"):\n",
    "            fire = fire + 1\n",
    "        elif(input3 == \"c\"):\n",
    "            earth = earth + 1\n",
    "        break\n",
    "    else:\n",
    "        print(\"Sorry you inputted a wrong letter. Please try again.\")\n",
    "        \n",
    "while(True):\n",
    "    input4 = input(\"Do you prefer (a) sweet, (b) salty, or (c) spicy food?\")\n",
    "    if(input4 == \"a\" or input4 == \"b\" or input4 == \"c\"):\n",
    "        if(input4 == \"a\"):\n",
    "            earth = earth + 1\n",
    "        elif(input4 == \"b\"):\n",
    "            water = water + 1\n",
    "        elif(input4 == \"c\"):\n",
    "            fire = fire + 1\n",
    "        break\n",
    "    else:\n",
    "        print(\"Sorry you inputted a wrong letter. Please try again.\")\n",
    "\n",
    "while(True):\n",
    "    input5 = input(\"Do you prefer (a) cats, (b) dogs, or (c) fish?\")\n",
    "    if(input5 == \"a\" or input5 == \"b\" or input5 == \"c\"):\n",
    "        if(input5 == \"a\"):\n",
    "            earth = earth + 1\n",
    "        elif(input5 == \"b\"):\n",
    "            fire = fire + 1\n",
    "        elif(input5 == \"c\"):\n",
    "            water = water + 1\n",
    "        break\n",
    "    else:\n",
    "        print(\"Sorry you inputted a wrong letter. Please try again.\")\n",
    "\n",
    "if(water > fire and water> earth):\n",
    "    result = \"Water\"\n",
    "elif(fire > water and fire > earth):\n",
    "    result = \"Fire\"\n",
    "elif(earth > fire and earth > water):\n",
    "    result = \"Earth\"\n",
    "elif(water == fire):\n",
    "    result = \"Fire\"\n",
    "elif(water == earth):\n",
    "    result = \"Water\"\n",
    "elif(fire == earth):\n",
    "    result = \"Earth\"\n",
    "            \n",
    "print(\"Your element is:\", result)\n",
    "\n",
    "            "
   ]
  },
  {
   "cell_type": "code",
   "execution_count": null,
   "metadata": {},
   "outputs": [],
   "source": []
  }
 ],
 "metadata": {
  "kernelspec": {
   "display_name": "Python 3",
   "language": "python",
   "name": "python3"
  },
  "language_info": {
   "codemirror_mode": {
    "name": "ipython",
    "version": 3
   },
   "file_extension": ".py",
   "mimetype": "text/x-python",
   "name": "python",
   "nbconvert_exporter": "python",
   "pygments_lexer": "ipython3",
   "version": "3.7.6"
  }
 },
 "nbformat": 4,
 "nbformat_minor": 4
}
